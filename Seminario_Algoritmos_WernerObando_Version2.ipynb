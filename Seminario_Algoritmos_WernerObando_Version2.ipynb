{
 "cells": [
  {
   "cell_type": "markdown",
   "metadata": {
    "id": "hVbXYX-RfPWh"
   },
   "source": [
    "# Algoritmos de optimización - Seminario<br>\n",
    "Nombre y Apellidos:  \n",
    "### WERNER OBANDO CAMPOS <br>\n",
    "Url: https://github.com/.../03MAIR---Algoritmos-de-Optimizacion---2019/tree/master/SEMINARIO<br>\n",
    "Problema:\n",
    "> 1. Sesiones de doblaje <br>\n",
    ">2. Organizar los horarios de partidos de La Liga<br>\n",
    ">3. Combinar cifras y operaciones\n",
    "\n",
    "Descripción del problema:(copiar enunciado)\n",
    "\n",
    "### 3. Combinar cifras y operaciones\n",
    "\n",
    "(*) La respuesta es obligatoria\n",
    "\n",
    "\n",
    "\n",
    "\n",
    "\n",
    "                                        "
   ]
  },
  {
   "cell_type": "code",
   "execution_count": null,
   "metadata": {
    "id": "AiskKkzZfy4e"
   },
   "outputs": [],
   "source": [
    "Combinar cifras y operaciones"
   ]
  },
  {
   "cell_type": "markdown",
   "metadata": {
    "id": "3_-exlrTgLd-"
   },
   "source": [
    "(*)¿Cuantas posibilidades hay sin tener en cuenta las restricciones?<br>\n",
    "\n",
    "\n",
    "\n",
    "¿Cuantas posibilidades hay teniendo en cuenta todas las restricciones.\n",
    "\n",
    "\n"
   ]
  },
  {
   "cell_type": "markdown",
   "metadata": {
    "id": "WfCUqJyKhPcw"
   },
   "source": [
    "Respuesta"
   ]
  },
  {
   "cell_type": "markdown",
   "metadata": {
    "id": "iq6Fe32MgpDX"
   },
   "source": [
    "##### Posibilidades sin tener en cuenta las restricciones\n",
    "Para los 5 dígitos de 9 son: P(9,5) = 9×8×7×6×5 = 15 120.<br>\n",
    "Para los signos, sin restricciones, como por ejemplo, poder repetir los signos como en 1+2+3+4, son: 4^4 = 256, por lo tanto,<br>\n",
    "Posibilidades sin tener en cuenta las restricciones = 15120×256 = 3 870 720.\n",
    "\n",
    "##### Pqosibilidades teniendo en cuenta todas las restricciones\n",
    "Para los 5 dígitos de 9 son: P(9,5) = 9×8×7×6×5 = 15 120.<br>\n",
    "Para los signos, con restricciones, son: 4! = 24, por lo tanto,<br>\n",
    "Posibilidades sin tener en cuenta las restricciones = 15 120×24 = 362 880.\n"
   ]
  },
  {
   "cell_type": "markdown",
   "metadata": {
    "id": "dzynfVJahHoY"
   },
   "source": [
    "Modelo para el espacio de soluciones<br>\n",
    "(*) ¿Cual es la estructura de datos que mejor se adapta al problema? Argumentalo.(Es posible que hayas elegido una al principio y veas la necesidad de cambiar, arguentalo)\n"
   ]
  },
  {
   "cell_type": "markdown",
   "metadata": {
    "id": "xFIJrOwKi2Ti"
   },
   "source": [
    "Respuesta"
   ]
  },
  {
   "cell_type": "markdown",
   "metadata": {
    "id": "38c-7-ejhJmA"
   },
   "source": [
    "Se considera conveniente utilizar Listas y/o Tuplas para almacenar, según sea el caso, diferentes permutaciones de dígitos y operadores. <br> \n",
    "Las listas se utilizan para la generación de permutaciones con itertools.permutations, las tuplas son eficientes para representar combinaciones fijas de dígitos y operadores\n",
    "\n",
    "También conviene utilizar Conjuntos (sets)> ya que los conjuntos evitarán el almacenamiento de duplicados en los resultados.\n",
    "\n"
   ]
  },
  {
   "cell_type": "markdown",
   "metadata": {
    "id": "7Z9U2W7bi-XS"
   },
   "source": [
    "Según el modelo para el espacio de soluciones<br>\n",
    "(*)¿Cual es la función objetivo?\n",
    "\n",
    "(*)¿Es un problema de maximización o minimización?"
   ]
  },
  {
   "cell_type": "markdown",
   "metadata": {
    "id": "hBalWLM7j1_d"
   },
   "source": [
    "Respuesta"
   ]
  },
  {
   "cell_type": "markdown",
   "metadata": {
    "id": "pDA-rg3Gj5Lz"
   },
   "source": [
    "##### Función objetivo\n",
    " La Función objetivo se puede difinir como: <br>\n",
    "\n",
    "𝑓(d,σ), el valor real de la expresión formada por 𝑑 y 𝜎 <br>\n",
    "\n",
    "d=(d1,…,d5)∈D:={1,…,9}5 con todos los 𝑑𝑖 distintos.<br>\n",
    "             \n",
    "σ=(σ1,…,σ4)∈S:=perm({+,−,×,÷}).\n",
    "\n",
    "##### Maximización o minimización\n",
    "El problema es predominantemente de búsqueda exhaustiva, pero incorpora elementos de maximización y minimización para responder a las preguntas sobre valores extremos.\n",
    "\n",
    "(Pmax)maxf(d,σ) → óptimo global hallado: 79 (p.ej. 7/1+8*9-2).\n",
    "\n",
    "(Pmin)minf(d,σ) → óptimo global hallado: −71 (p.ej. 1/2-8*9+3).\n",
    "             "
   ]
  },
  {
   "cell_type": "markdown",
   "metadata": {
    "id": "rlnTYgY1j6I2"
   },
   "source": [
    "Diseña un algoritmo para resolver el problema por fuerza bruta"
   ]
  },
  {
   "cell_type": "markdown",
   "metadata": {
    "id": "70rDgxYXkC8r"
   },
   "source": [
    "Respuesta"
   ]
  },
  {
   "cell_type": "code",
   "execution_count": 10,
   "metadata": {
    "id": "CJb5sQ0qkENy"
   },
   "outputs": [
    {
     "name": "stdout",
     "output_type": "stream",
     "text": [
      "Búsqueda de Expresiones Matemáticas\n",
      "===================================\n",
      "Este programa encuentra una expresión que utiliza 5 dígitos distintos (1-9)\n",
      "y los 4 operadores básicos (+, -, *, /) sin repetición para obtener un número objetivo.\n",
      "\n",
      "Se encontró UNA solución en 0.276s:\n"
     ]
    },
    {
     "name": "stdin",
     "output_type": "stream",
     "text": [
      "Ingrese el número objetivo:  69\n"
     ]
    },
    {
     "name": "stdout",
     "output_type": "stream",
     "text": [
      "\n",
      "Buscando expresión para obtener 69...\n",
      "¡Expresión encontrada!: 2/1-5+8*9 = 69.0\n"
     ]
    }
   ],
   "source": [
    "import itertools\n",
    "\n",
    "def encontrar_expresion_objetivo(objetivo):\n",
    "    \"\"\"\n",
    "    Encuentra una expresión matemática que evalúe a un número objetivo específico\n",
    "    utilizando 5 dígitos distintos del 1-9 y los 4 operadores básicos sin repetición.\n",
    "    \n",
    "    Args:\n",
    "        objetivo (int): Número que se desea obtener con la expresión\n",
    "        \n",
    "    Returns:\n",
    "        str or None: Expresión que evalúa al objetivo o None si no se encuentra\n",
    "    \"\"\"\n",
    "    digitos = list(range(1, 10))\n",
    "    operadores = ['+', '-', '*', '/']\n",
    "    \n",
    "    # Generar todas las permutaciones posibles\n",
    "    for dig_perm in itertools.permutations(digitos, 5):\n",
    "        for op_perm in itertools.permutations(operadores, 4):\n",
    "            # Construir la expresión como string\n",
    "            expr = f\"{dig_perm[0]}{op_perm[0]}{dig_perm[1]}{op_perm[1]}{dig_perm[2]}{op_perm[2]}{dig_perm[3]}{op_perm[3]}{dig_perm[4]}\"\n",
    "            \n",
    "            try:\n",
    "                # Evaluar la expresión\n",
    "                valor = eval(expr)\n",
    "                \n",
    "                # Verificar si coincide con el objetivo\n",
    "                if abs(valor - objetivo) < 1e-10:  # Usamos tolerancia para comparación de floats\n",
    "                    return expr\n",
    "            except ZeroDivisionError:\n",
    "                # Ignorar divisiones por cero\n",
    "                continue\n",
    "    \n",
    "    return None\n",
    "\n",
    "# Interfaz de usuario\n",
    "def main():\n",
    "    print(\"Búsqueda de Expresiones Matemáticas\")\n",
    "    print(\"===================================\")\n",
    "    print(\"Este programa encuentra una expresión que utiliza 5 dígitos distintos (1-9)\")\n",
    "    print(\"y los 4 operadores básicos (+, -, *, /) sin repetición para obtener un número objetivo.\")\n",
    "    print()\n",
    "    print(f\"Se encontró UNA solución en {dt:.3f}s:\")\n",
    "    \n",
    "    try:\n",
    "        objetivo = int(input(\"Ingrese el número objetivo: \"))\n",
    "        \n",
    "        print(f\"\\nBuscando expresión para obtener {objetivo}...\")\n",
    "        expresion = encontrar_expresion_objetivo(objetivo)\n",
    "        \n",
    "        if expresion:\n",
    "            # Verificar el resultado para mayor seguridad\n",
    "            resultado = eval(expresion)\n",
    "            print(f\"¡Expresión encontrada!: {expresion} = {resultado}\")\n",
    "        else:\n",
    "            print(f\"No se encontró ninguna expresión que evalúe a {objetivo}.\")\n",
    "            print(\"Nota: Algunos valores pueden no ser alcanzables con las restricciones del problema.\")\n",
    "    \n",
    "    except ValueError:\n",
    "        print(\"Error: Por favor ingrese un número entero válido.\")\n",
    "    except Exception as e:\n",
    "        print(f\"Error inesperado: {e}\")\n",
    "\n",
    "\n",
    "if __name__ == \"__main__\":\n",
    "    main()\n",
    "    "
   ]
  },
  {
   "cell_type": "markdown",
   "metadata": {
    "id": "tgrnsC2nkFa8"
   },
   "source": [
    "Calcula la complejidad del algoritmo por fuerza bruta"
   ]
  },
  {
   "cell_type": "markdown",
   "metadata": {
    "id": "9eUd3xwckP68"
   },
   "source": [
    "Respuesta"
   ]
  },
  {
   "cell_type": "markdown",
   "metadata": {
    "id": "rvZWwL-ckRST"
   },
   "source": [
    "##### Complejidad\n",
    "Complejidad \n",
    "O(15,120×24)=O(362,880).\n",
    "\n",
    "Complejidad espacial: \n",
    "O(1) para variables temporales, pero O(R) para almacenar resultados, donde R es el número de enteros únicos.\n",
    "\n"
   ]
  },
  {
   "cell_type": "markdown",
   "metadata": {
    "id": "txbrmLmskReM"
   },
   "source": [
    "(*)Diseña un algoritmo que mejore la complejidad del algortimo por fuerza bruta. Argumenta porque crees que mejora el algoritmo por fuerza bruta"
   ]
  },
  {
   "cell_type": "markdown",
   "metadata": {
    "id": "hLrVwt5QkZPD"
   },
   "source": [
    "Respuesta"
   ]
  },
  {
   "cell_type": "code",
   "execution_count": 9,
   "metadata": {
    "id": "m1eyM21Vkabg"
   },
   "outputs": [
    {
     "name": "stdin",
     "output_type": "stream",
     "text": [
      "Ingresá el objetivo (ej. 79, -71, 7/2). Enter vacío para salir:  69\n"
     ]
    },
    {
     "name": "stdout",
     "output_type": "stream",
     "text": [
      "Objetivo: 69 (tipo: int )\n",
      "Se encontró UNA solución en 0.276s:\n",
      "  2/1-5+8*9 = 69\n"
     ]
    }
   ],
   "source": [
    "# ==========================================\n",
    "# Algoritmo 2 — Fuerza bruta con CACHÉ en * y /\n",
    "# Entrada por teclado (input) de un objetivo\n",
    "# ==========================================\n",
    "\n",
    "from itertools import permutations\n",
    "from fractions import Fraction\n",
    "from typing import Union, Optional\n",
    "import time\n",
    "\n",
    "# ---- Caché para multiplicación/división exacta con Fraction ----\n",
    "_pair_cache = {}\n",
    "def _mul_div_cached(a: Fraction, op: str, b: Fraction) -> Fraction:\n",
    "    key = (a.numerator, a.denominator, op, b.numerator, b.denominator)\n",
    "    if key in _pair_cache:\n",
    "        return _pair_cache[key]\n",
    "    res = a * b if op == '*' else a / b\n",
    "    _pair_cache[key] = res\n",
    "    return res\n",
    "\n",
    "# ---- Construcción de la cadena de expresión ----\n",
    "def build_expr_string(nums, op_order):\n",
    "    s = f\"{nums[0]}\"\n",
    "    for i, op in enumerate(op_order):\n",
    "        s += f\"{op}{nums[i+1]}\"\n",
    "    return s\n",
    "\n",
    "# ---- Evaluación con precedencia usando caché en * y / ----\n",
    "def eval_expr_algo2(nums, op_order) -> Fraction:\n",
    "    current = Fraction(nums[0], 1)\n",
    "    terms, signs = [], []\n",
    "    for i, op in enumerate(op_order):\n",
    "        b = Fraction(nums[i+1], 1)\n",
    "        if op in ('*', '/'):\n",
    "            current = _mul_div_cached(current, op, b)\n",
    "        else:\n",
    "            terms.append(current)\n",
    "            signs.append(op)\n",
    "            current = b\n",
    "    terms.append(current)\n",
    "    total = terms[0]\n",
    "    for s, t in zip(signs, terms[1:]):\n",
    "        total = total + t if s == '+' else total - t\n",
    "    return total\n",
    "\n",
    "# ---- Espacio factible ----\n",
    "DIGITS = list(range(1, 10))                 # {1..9}\n",
    "OPS    = ['+','-','*','/']                  # cada uno exactamente una vez\n",
    "ALL_DIGIT_PERMS = list(permutations(DIGITS, 5))  # 15,120\n",
    "ALL_OP_PERMS    = list(permutations(OPS, 4))     # 24\n",
    "\n",
    "# ---- Parseo del objetivo ingresado por usuario ----\n",
    "def parse_target(user_str: str) -> Union[int, Fraction]:\n",
    "    s = user_str.strip()\n",
    "    if '/' in s:\n",
    "        num, den = s.split('/', 1)\n",
    "        return Fraction(int(num.strip()), int(den.strip()))\n",
    "    return int(s)\n",
    "\n",
    "# ---- Búsqueda de UNA solución para el objetivo ----\n",
    "def find_one_solution_for_target_algo2(target: Union[int, Fraction]) -> Optional[str]:\n",
    "    _pair_cache.clear()  # opcional: limpiar caché por consistencia\n",
    "    for nums in ALL_DIGIT_PERMS:\n",
    "        for opord in ALL_OP_PERMS:\n",
    "            val = eval_expr_algo2(nums, opord)\n",
    "            if isinstance(target, int):\n",
    "                if val.denominator == 1 and val == target:\n",
    "                    return build_expr_string(nums, opord)\n",
    "            else:\n",
    "                if val == target:\n",
    "                    return build_expr_string(nums, opord)\n",
    "    return None\n",
    "\n",
    "# ================================\n",
    "# Entrada por teclado (input) y ejecución\n",
    "# ================================\n",
    "# En Jupyter funciona bien; en algunos entornos puede verse como un prompt en consola.\n",
    "user_input = input(\"Ingresá el objetivo (ej. 79, -71, 7/2). Enter vacío para salir: \").strip()\n",
    "if user_input == \"\":\n",
    "    print(\"Salida.\")\n",
    "else:\n",
    "    try:\n",
    "        target = parse_target(user_input)\n",
    "        print(\"Objetivo:\", target, \"(tipo:\", type(target).__name__, \")\")\n",
    "        t0 = time.time()\n",
    "        expr = find_one_solution_for_target_algo2(target)\n",
    "        dt = time.time() - t0\n",
    "        if expr is None:\n",
    "            print(f\"No se encontró ninguna expresión que valga exactamente {target}. (tiempo: {dt:.3f}s)\")\n",
    "        else:\n",
    "            print(f\"Se encontró UNA solución en {dt:.3f}s:\")\n",
    "            print(\" \", expr, \"=\", target)\n",
    "    except Exception as e:\n",
    "        print(\"Entrada inválida:\", e)\n"
   ]
  },
  {
   "cell_type": "markdown",
   "metadata": {
    "id": "eGDB4K6uk1iN"
   },
   "source": [
    "(*)Calcula la complejidad del algoritmo"
   ]
  },
  {
   "cell_type": "markdown",
   "metadata": {
    "id": "NhpTh_BPk1ms"
   },
   "source": [
    "Respuesta"
   ]
  },
  {
   "cell_type": "markdown",
   "metadata": {
    "id": "nREzhkStlCq8"
   },
   "source": [
    "Espacio de búsqueda fijo por el enunciado:\n",
    "\n",
    "\n",
    "N=P(9,5)⋅4!=15,120×24=362,880\n",
    "En conclusión: la versión con input() mantiene la misma complejidad asintótica que el algoritmo 2 original: tiempo \n",
    "Θ(362,880) en el peor caso, mejor caso O(1) con posible ganancia constante por el caché; espacio dominado por las permutaciones precalculadas.\n"
   ]
  },
  {
   "cell_type": "markdown",
   "metadata": {
    "id": "3M6QjTsSkmYe"
   },
   "source": [
    "Según el problema (y tenga sentido), diseña un juego de datos de entrada aleatorios"
   ]
  },
  {
   "cell_type": "markdown",
   "metadata": {
    "id": "Jc3_OlyNkvjZ"
   },
   "source": [
    "Respuesta"
   ]
  },
  {
   "cell_type": "code",
   "execution_count": null,
   "metadata": {
    "id": "sJ-N2etjkyWc"
   },
   "outputs": [],
   "source": []
  },
  {
   "cell_type": "markdown",
   "metadata": {
    "id": "zy5ZROmjlGo1"
   },
   "source": [
    "Aplica el algoritmo al juego de datos generado"
   ]
  },
  {
   "cell_type": "markdown",
   "metadata": {
    "id": "_Cmj-PVylMsa"
   },
   "source": [
    "Respuesta"
   ]
  },
  {
   "cell_type": "code",
   "execution_count": null,
   "metadata": {
    "id": "Jkx8GeiYlUz1"
   },
   "outputs": [],
   "source": []
  },
  {
   "cell_type": "markdown",
   "metadata": {
    "id": "eTFWUJQrtGcv"
   },
   "source": [
    "Enumera las referencias que has utilizado(si ha sido necesario) para llevar a cabo el trabajo"
   ]
  },
  {
   "cell_type": "markdown",
   "metadata": {
    "id": "YKQ_mRBttWsP"
   },
   "source": [
    "Knuth, D. E. (1997). The Art of Computer Programming. Addison-Wesley <br>\n",
    "Russell, S., & Norvig, P. (2020). Artificial Intelligence: A Modern Approach. Pearson <br>\n",
    "Documentación oficial de Python: itertools.<br>\n",
    "Python — fractions.Fraction (aritmética racional exacta) https://docs.python.org/3/library/fractions.html <br>\n",
    "Python — itertools.permutations (generación de permutaciones) https://docs.python.org/3/library/itertools.html <br>\n",
    "AI Chatgpt, https://chatgpt.com/ <br>\n",
    "AI DeepSeek, https://chat.deepseek.com/ <br>\n",
    "AI Google IA Studio, https://aistudio.google.com/ <br>\n"
   ]
  },
  {
   "cell_type": "markdown",
   "metadata": {
    "id": "kAkDPUyRtYyH"
   },
   "source": [
    "Describe brevemente las lineas de como crees que es posible avanzar en el estudio del problema. Ten en cuenta incluso posibles variaciones del problema y/o variaciones al alza del tamaño"
   ]
  },
  {
   "cell_type": "markdown",
   "metadata": {
    "id": "IE0uZmo-tZu-"
   },
   "source": [
    "Permitir paréntesis para cambiar la precedencia. <br>\n",
    "Extender a más dígitos y operadores. <br>\n",
    "Usar algoritmos genéticos para búsqueda eficiente. <br>\n",
    "\n"
   ]
  },
  {
   "cell_type": "code",
   "execution_count": null,
   "metadata": {},
   "outputs": [],
   "source": []
  }
 ],
 "metadata": {
  "colab": {
   "provenance": []
  },
  "kernelspec": {
   "display_name": "Python [conda env:base] *",
   "language": "python",
   "name": "conda-base-py"
  },
  "language_info": {
   "codemirror_mode": {
    "name": "ipython",
    "version": 3
   },
   "file_extension": ".py",
   "mimetype": "text/x-python",
   "name": "python",
   "nbconvert_exporter": "python",
   "pygments_lexer": "ipython3",
   "version": "3.12.7"
  }
 },
 "nbformat": 4,
 "nbformat_minor": 4
}
