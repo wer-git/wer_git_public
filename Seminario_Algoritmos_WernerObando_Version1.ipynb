{
 "cells": [
  {
   "cell_type": "markdown",
   "metadata": {
    "id": "hVbXYX-RfPWh"
   },
   "source": [
    "# Algoritmos de optimización - Seminario<br>\n",
    "Nombre y Apellidos:  \n",
    "### WERNER OBANDO CAMPOS <br>\n",
    "Url: https://github.com/.../03MAIR---Algoritmos-de-Optimizacion---2019/tree/master/SEMINARIO<br>\n",
    "Problema:\n",
    "> 1. Sesiones de doblaje <br>\n",
    ">2. Organizar los horarios de partidos de La Liga<br>\n",
    ">3. Combinar cifras y operaciones\n",
    "\n",
    "Descripción del problema:(copiar enunciado)\n",
    "\n",
    "### 3. Combinar cifras y operaciones\n",
    "\n",
    "(*) La respuesta es obligatoria\n",
    "\n",
    "\n",
    "\n",
    "\n",
    "\n",
    "                                        "
   ]
  },
  {
   "cell_type": "code",
   "execution_count": null,
   "metadata": {
    "id": "AiskKkzZfy4e"
   },
   "outputs": [],
   "source": [
    "Combinar cifras y operaciones"
   ]
  },
  {
   "cell_type": "markdown",
   "metadata": {
    "id": "3_-exlrTgLd-"
   },
   "source": [
    "(*)¿Cuantas posibilidades hay sin tener en cuenta las restricciones?<br>\n",
    "\n",
    "\n",
    "\n",
    "¿Cuantas posibilidades hay teniendo en cuenta todas las restricciones.\n",
    "\n",
    "\n"
   ]
  },
  {
   "cell_type": "markdown",
   "metadata": {
    "id": "WfCUqJyKhPcw"
   },
   "source": [
    "Respuesta"
   ]
  },
  {
   "cell_type": "markdown",
   "metadata": {
    "id": "iq6Fe32MgpDX"
   },
   "source": [
    "##### Posibilidades sin tener en cuenta las restricciones\n",
    "Para los 5 dígitos de 9 son: P(9,5) = 9×8×7×6×5 = 15 120.<br>\n",
    "Para los signos, sin restricciones, como por ejemplo, poder repetir los signos como en 1+2+3+4, son: 4^4 = 256, por lo tanto,<br>\n",
    "Posibilidades sin tener en cuenta las restricciones = 15120×256 = 3 870 720.\n",
    "\n",
    "##### Pqosibilidades teniendo en cuenta todas las restricciones\n",
    "Para los 5 dígitos de 9 son: P(9,5) = 9×8×7×6×5 = 15 120.<br>\n",
    "Para los signos, con restricciones, son: 4! = 24, por lo tanto,<br>\n",
    "Posibilidades sin tener en cuenta las restricciones = 15 120×24 = 362 880.\n"
   ]
  },
  {
   "cell_type": "markdown",
   "metadata": {
    "id": "dzynfVJahHoY"
   },
   "source": [
    "Modelo para el espacio de soluciones<br>\n",
    "(*) ¿Cual es la estructura de datos que mejor se adapta al problema? Argumentalo.(Es posible que hayas elegido una al principio y veas la necesidad de cambiar, arguentalo)\n"
   ]
  },
  {
   "cell_type": "markdown",
   "metadata": {
    "id": "xFIJrOwKi2Ti"
   },
   "source": [
    "Respuesta"
   ]
  },
  {
   "cell_type": "code",
   "execution_count": null,
   "metadata": {
    "id": "38c-7-ejhJmA"
   },
   "outputs": [],
   "source": []
  },
  {
   "cell_type": "markdown",
   "metadata": {
    "id": "7Z9U2W7bi-XS"
   },
   "source": [
    "Según el modelo para el espacio de soluciones<br>\n",
    "(*)¿Cual es la función objetivo?\n",
    "\n",
    "(*)¿Es un problema de maximización o minimización?"
   ]
  },
  {
   "cell_type": "markdown",
   "metadata": {
    "id": "hBalWLM7j1_d"
   },
   "source": [
    "Respuesta"
   ]
  },
  {
   "cell_type": "code",
   "execution_count": null,
   "metadata": {
    "id": "pDA-rg3Gj5Lz"
   },
   "outputs": [],
   "source": []
  },
  {
   "cell_type": "markdown",
   "metadata": {
    "id": "rlnTYgY1j6I2"
   },
   "source": [
    "Diseña un algoritmo para resolver el problema por fuerza bruta"
   ]
  },
  {
   "cell_type": "markdown",
   "metadata": {
    "id": "70rDgxYXkC8r"
   },
   "source": [
    "Respuesta"
   ]
  },
  {
   "cell_type": "code",
   "execution_count": null,
   "metadata": {
    "id": "CJb5sQ0qkENy"
   },
   "outputs": [],
   "source": []
  },
  {
   "cell_type": "markdown",
   "metadata": {
    "id": "tgrnsC2nkFa8"
   },
   "source": [
    "Calcula la complejidad del algoritmo por fuerza bruta"
   ]
  },
  {
   "cell_type": "markdown",
   "metadata": {
    "id": "9eUd3xwckP68"
   },
   "source": [
    "Respuesta"
   ]
  },
  {
   "cell_type": "code",
   "execution_count": null,
   "metadata": {
    "id": "rvZWwL-ckRST"
   },
   "outputs": [],
   "source": []
  },
  {
   "cell_type": "markdown",
   "metadata": {
    "id": "txbrmLmskReM"
   },
   "source": [
    "(*)Diseña un algoritmo que mejore la complejidad del algortimo por fuerza bruta. Argumenta porque crees que mejora el algoritmo por fuerza bruta"
   ]
  },
  {
   "cell_type": "markdown",
   "metadata": {
    "id": "hLrVwt5QkZPD"
   },
   "source": [
    "Respuesta"
   ]
  },
  {
   "cell_type": "code",
   "execution_count": null,
   "metadata": {
    "id": "m1eyM21Vkabg"
   },
   "outputs": [],
   "source": []
  },
  {
   "cell_type": "markdown",
   "metadata": {
    "id": "eGDB4K6uk1iN"
   },
   "source": [
    "(*)Calcula la complejidad del algoritmo"
   ]
  },
  {
   "cell_type": "markdown",
   "metadata": {
    "id": "NhpTh_BPk1ms"
   },
   "source": [
    "Respuesta"
   ]
  },
  {
   "cell_type": "code",
   "execution_count": null,
   "metadata": {
    "id": "nREzhkStlCq8"
   },
   "outputs": [],
   "source": []
  },
  {
   "cell_type": "markdown",
   "metadata": {
    "id": "3M6QjTsSkmYe"
   },
   "source": [
    "Según el problema (y tenga sentido), diseña un juego de datos de entrada aleatorios"
   ]
  },
  {
   "cell_type": "markdown",
   "metadata": {
    "id": "Jc3_OlyNkvjZ"
   },
   "source": [
    "Respuesta"
   ]
  },
  {
   "cell_type": "code",
   "execution_count": null,
   "metadata": {
    "id": "sJ-N2etjkyWc"
   },
   "outputs": [],
   "source": []
  },
  {
   "cell_type": "markdown",
   "metadata": {
    "id": "zy5ZROmjlGo1"
   },
   "source": [
    "Aplica el algoritmo al juego de datos generado"
   ]
  },
  {
   "cell_type": "markdown",
   "metadata": {
    "id": "_Cmj-PVylMsa"
   },
   "source": [
    "Respuesta"
   ]
  },
  {
   "cell_type": "code",
   "execution_count": null,
   "metadata": {
    "id": "Jkx8GeiYlUz1"
   },
   "outputs": [],
   "source": []
  },
  {
   "cell_type": "markdown",
   "metadata": {
    "id": "eTFWUJQrtGcv"
   },
   "source": [
    "Enumera las referencias que has utilizado(si ha sido necesario) para llevar a cabo el trabajo"
   ]
  },
  {
   "cell_type": "markdown",
   "metadata": {
    "id": "YKQ_mRBttWsP"
   },
   "source": [
    "Respuesta"
   ]
  },
  {
   "cell_type": "markdown",
   "metadata": {
    "id": "kAkDPUyRtYyH"
   },
   "source": [
    "Describe brevemente las lineas de como crees que es posible avanzar en el estudio del problema. Ten en cuenta incluso posibles variaciones del problema y/o variaciones al alza del tamaño"
   ]
  },
  {
   "cell_type": "markdown",
   "metadata": {
    "id": "IE0uZmo-tZu-"
   },
   "source": [
    "Respuesta"
   ]
  }
 ],
 "metadata": {
  "colab": {
   "provenance": []
  },
  "kernelspec": {
   "display_name": "Python [conda env:base] *",
   "language": "python",
   "name": "conda-base-py"
  },
  "language_info": {
   "codemirror_mode": {
    "name": "ipython",
    "version": 3
   },
   "file_extension": ".py",
   "mimetype": "text/x-python",
   "name": "python",
   "nbconvert_exporter": "python",
   "pygments_lexer": "ipython3",
   "version": "3.12.7"
  }
 },
 "nbformat": 4,
 "nbformat_minor": 4
}
